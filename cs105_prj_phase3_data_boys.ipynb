{
  "nbformat": 4,
  "nbformat_minor": 0,
  "metadata": {
    "colab": {
      "name": "cs105-prj-phase2-data-boys.ipynb",
      "provenance": [],
      "collapsed_sections": [],
      "toc_visible": true
    },
    "kernelspec": {
      "name": "python3",
      "display_name": "Python 3"
    }
  },
  "cells": [
    {
      "cell_type": "code",
      "metadata": {
        "id": "elT7j5jdt3GR",
        "colab_type": "code",
        "outputId": "b5c1dbad-9e91-43cd-9e45-ac9edba50ae5",
        "colab": {
          "base_uri": "https://localhost:8080/",
          "height": 419
        }
      },
      "source": [
        "#Bryce Hills - 862073105\n",
        "#Raghav Sharma\n",
        "#Andre Band\n",
        "\n",
        "import pandas as pd\n",
        "import requests\n",
        "from bs4 import BeautifulSoup\n",
        "\n",
        "#initialize df\n",
        "df = pd.DataFrame()\n",
        "\n",
        "pd.set_option('display.max_rows', 20)\n",
        "pd.set_option('display.max_columns', 20)\n",
        "pd.set_option('display.width', 10)\n",
        "\n",
        "#request links to team stats from 2019-1991\n",
        "res0 = requests.get(\"https://www.baseball-reference.com/leagues/MLB/2019-standard-batting.shtml\")\n",
        "res1 = requests.get(\"https://www.baseball-reference.com/leagues/MLB/2018-standard-batting.shtml\")\n",
        "res2 = requests.get(\"https://www.baseball-reference.com/leagues/MLB/2017-standard-batting.shtml\")\n",
        "res3 = requests.get(\"https://www.baseball-reference.com/leagues/MLB/2016-standard-batting.shtml\")\n",
        "res4 = requests.get(\"https://www.baseball-reference.com/leagues/MLB/2015-standard-batting.shtml\")\n",
        "res5 = requests.get(\"https://www.baseball-reference.com/leagues/MLB/2014-standard-batting.shtml\")\n",
        "res6 = requests.get(\"https://www.baseball-reference.com/leagues/MLB/2013-standard-batting.shtml\")\n",
        "res7 = requests.get(\"https://www.baseball-reference.com/leagues/MLB/2012-standard-batting.shtml\")\n",
        "res8 = requests.get(\"https://www.baseball-reference.com/leagues/MLB/2011-standard-batting.shtml\")\n",
        "res9 = requests.get(\"https://www.baseball-reference.com/leagues/MLB/2010-standard-batting.shtml\")\n",
        "res10 = requests.get(\"https://www.baseball-reference.com/leagues/MLB/2009-standard-batting.shtml\")\n",
        "res11 = requests.get(\"https://www.baseball-reference.com/leagues/MLB/2008-standard-batting.shtml\")\n",
        "res12 = requests.get(\"https://www.baseball-reference.com/leagues/MLB/2007-standard-batting.shtml\")\n",
        "res13 = requests.get(\"https://www.baseball-reference.com/leagues/MLB/2006-standard-batting.shtml\")\n",
        "res14 = requests.get(\"https://www.baseball-reference.com/leagues/MLB/2005-standard-batting.shtml\")\n",
        "res15 = requests.get(\"https://www.baseball-reference.com/leagues/MLB/2004-standard-batting.shtml\")\n",
        "res16 = requests.get(\"https://www.baseball-reference.com/leagues/MLB/2003-standard-batting.shtml\")\n",
        "res17 = requests.get(\"https://www.baseball-reference.com/leagues/MLB/2002-standard-batting.shtml\")\n",
        "res18 = requests.get(\"https://www.baseball-reference.com/leagues/MLB/2001-standard-batting.shtml\")\n",
        "res19 = requests.get(\"https://www.baseball-reference.com/leagues/MLB/2000-standard-batting.shtml\")\n",
        "res20 = requests.get(\"https://www.baseball-reference.com/leagues/MLB/1999-standard-batting.shtml\")\n",
        "res21 = requests.get(\"https://www.baseball-reference.com/leagues/MLB/1998-standard-batting.shtml\")\n",
        "res22 = requests.get(\"https://www.baseball-reference.com/leagues/MLB/1997-standard-batting.shtml\")\n",
        "res23 = requests.get(\"https://www.baseball-reference.com/leagues/MLB/1996-standard-batting.shtml\")\n",
        "res24 = requests.get(\"https://www.baseball-reference.com/leagues/MLB/1995-standard-batting.shtml\")\n",
        "res25 = requests.get(\"https://www.baseball-reference.com/leagues/MLB/1994-standard-batting.shtml\")\n",
        "res26 = requests.get(\"https://www.baseball-reference.com/leagues/MLB/1993-standard-batting.shtml\")\n",
        "res27 = requests.get(\"https://www.baseball-reference.com/leagues/MLB/1992-standard-batting.shtml\")\n",
        "res28 = requests.get(\"https://www.baseball-reference.com/leagues/MLB/1991-standard-batting.shtml\")\n",
        "res29 = requests.get(\"https://www.baseball-reference.com/leagues/MLB/1990-standard-batting.shtml\")\n",
        "res30 = requests.get(\"https://www.baseball-reference.com/leagues/MLB/1989-standard-batting.shtml\")\n",
        "res31 = requests.get(\"https://www.baseball-reference.com/leagues/MLB/1988-standard-batting.shtml\")\n",
        "res32 = requests.get(\"https://www.baseball-reference.com/leagues/MLB/1987-standard-batting.shtml\")\n",
        "res33 = requests.get(\"https://www.baseball-reference.com/leagues/MLB/1986-standard-batting.shtml\")\n",
        "res34 = requests.get(\"https://www.baseball-reference.com/leagues/MLB/1985-standard-batting.shtml\")\n",
        "res35 = requests.get(\"https://www.baseball-reference.com/leagues/MLB/1984-standard-batting.shtml\")\n",
        "res36 = requests.get(\"https://www.baseball-reference.com/leagues/MLB/1983-standard-batting.shtml\")\n",
        "res37 = requests.get(\"https://www.baseball-reference.com/leagues/MLB/1982-standard-batting.shtml\")\n",
        "res38 = requests.get(\"https://www.baseball-reference.com/leagues/MLB/1981-standard-batting.shtml\")\n",
        "res39 = requests.get(\"https://www.baseball-reference.com/leagues/MLB/1980-standard-batting.shtml\")\n",
        "\n",
        "\n",
        "#soup objects - store html \n",
        "soup0 = BeautifulSoup(res0.content,'lxml')\n",
        "soup1 = BeautifulSoup(res1.content,'lxml')\n",
        "soup2 = BeautifulSoup(res2.content,'lxml')\n",
        "soup3 = BeautifulSoup(res3.content,'lxml')\n",
        "soup4 = BeautifulSoup(res4.content,'lxml')\n",
        "soup5 = BeautifulSoup(res5.content,'lxml')\n",
        "soup6 = BeautifulSoup(res6.content,'lxml')\n",
        "soup7 = BeautifulSoup(res7.content,'lxml')\n",
        "soup8 = BeautifulSoup(res8.content,'lxml')\n",
        "soup9 = BeautifulSoup(res9.content,'lxml')\n",
        "soup10 = BeautifulSoup(res10.content,'lxml')\n",
        "soup11 = BeautifulSoup(res11.content,'lxml')\n",
        "soup12 = BeautifulSoup(res12.content,'lxml')\n",
        "soup13 = BeautifulSoup(res13.content,'lxml')\n",
        "soup14 = BeautifulSoup(res14.content,'lxml')\n",
        "soup15 = BeautifulSoup(res15.content,'lxml')\n",
        "soup16 = BeautifulSoup(res16.content,'lxml')\n",
        "soup17 = BeautifulSoup(res17.content,'lxml')\n",
        "soup18 = BeautifulSoup(res18.content,'lxml')\n",
        "soup19 = BeautifulSoup(res19.content,'lxml')\n",
        "soup20 = BeautifulSoup(res20.content,'lxml')\n",
        "soup21 = BeautifulSoup(res21.content,'lxml')\n",
        "soup22 = BeautifulSoup(res22.content,'lxml')\n",
        "soup23 = BeautifulSoup(res23.content,'lxml')\n",
        "soup24 = BeautifulSoup(res24.content,'lxml')\n",
        "soup25 = BeautifulSoup(res25.content,'lxml')\n",
        "soup26 = BeautifulSoup(res26.content,'lxml')\n",
        "soup27 = BeautifulSoup(res27.content,'lxml')\n",
        "soup28 = BeautifulSoup(res28.content,'lxml')\n",
        "soup29 = BeautifulSoup(res29.content,'lxml')\n",
        "soup30 = BeautifulSoup(res30.content,'lxml')\n",
        "soup31 = BeautifulSoup(res31.content,'lxml')\n",
        "soup32 = BeautifulSoup(res32.content,'lxml')\n",
        "soup33 = BeautifulSoup(res33.content,'lxml')\n",
        "soup34 = BeautifulSoup(res34.content,'lxml')\n",
        "soup35 = BeautifulSoup(res35.content,'lxml')\n",
        "soup36 = BeautifulSoup(res36.content,'lxml')\n",
        "soup37 = BeautifulSoup(res37.content,'lxml')\n",
        "soup38 = BeautifulSoup(res38.content,'lxml')\n",
        "soup39 = BeautifulSoup(res39.content,'lxml')\n",
        "\n",
        "# gather table data from soup object\n",
        "table = soup0.find_all('table')[0]\n",
        "table1 = soup1.find_all('table')[0]\n",
        "table2 = soup2.find_all('table')[0]\n",
        "table3 = soup3.find_all('table')[0]\n",
        "table4 = soup4.find_all('table')[0]\n",
        "table5 = soup5.find_all('table')[0]\n",
        "table6 = soup6.find_all('table')[0]\n",
        "table7 = soup7.find_all('table')[0]\n",
        "table8 = soup8.find_all('table')[0]\n",
        "table9 = soup9.find_all('table')[0]\n",
        "table10 = soup10.find_all('table')[0]\n",
        "table11 = soup11.find_all('table')[0]\n",
        "table12 = soup12.find_all('table')[0]\n",
        "table13 = soup13.find_all('table')[0]\n",
        "table14 = soup14.find_all('table')[0]\n",
        "table15 = soup15.find_all('table')[0]\n",
        "table16 = soup16.find_all('table')[0]\n",
        "table17 = soup17.find_all('table')[0]\n",
        "table18 = soup18.find_all('table')[0]\n",
        "table19 = soup19.find_all('table')[0]\n",
        "table20 = soup20.find_all('table')[0]\n",
        "table21 = soup21.find_all('table')[0]\n",
        "table22 = soup22.find_all('table')[0]\n",
        "table23 = soup23.find_all('table')[0]\n",
        "table24 = soup24.find_all('table')[0]\n",
        "table25 = soup25.find_all('table')[0]\n",
        "table26 = soup26.find_all('table')[0]\n",
        "table27 = soup27.find_all('table')[0]\n",
        "table28 = soup28.find_all('table')[0]\n",
        "table29 = soup29.find_all('table')[0]\n",
        "table30 = soup30.find_all('table')[0]\n",
        "table31 = soup31.find_all('table')[0]\n",
        "table32 = soup32.find_all('table')[0]\n",
        "table33 = soup33.find_all('table')[0]\n",
        "table34 = soup34.find_all('table')[0]\n",
        "table35 = soup35.find_all('table')[0]\n",
        "table36 = soup36.find_all('table')[0]\n",
        "table37 = soup37.find_all('table')[0]\n",
        "table38 = soup38.find_all('table')[0]\n",
        "table39 = soup39.find_all('table')[0]\n",
        "\n",
        "# read into DF\n",
        "df1 = pd.read_html(str(table))[0]\n",
        "df2 = pd.read_html(str(table1))[0]\n",
        "df3 = pd.read_html(str(table2))[0]\n",
        "df4 = pd.read_html(str(table3))[0]\n",
        "df5 = pd.read_html(str(table4))[0]\n",
        "df6 = pd.read_html(str(table5))[0]\n",
        "df7 = pd.read_html(str(table6))[0]\n",
        "df8 = pd.read_html(str(table7))[0]\n",
        "df9 = pd.read_html(str(table8))[0]\n",
        "df10 = pd.read_html(str(table9))[0]\n",
        "df11 = pd.read_html(str(table10))[0]\n",
        "df12 = pd.read_html(str(table11))[0]\n",
        "df13 = pd.read_html(str(table12))[0]\n",
        "df14 = pd.read_html(str(table13))[0]\n",
        "df15 = pd.read_html(str(table14))[0]\n",
        "df16 = pd.read_html(str(table15))[0]\n",
        "df17 = pd.read_html(str(table16))[0]\n",
        "df18 = pd.read_html(str(table17))[0]\n",
        "df19 = pd.read_html(str(table18))[0]\n",
        "df20 = pd.read_html(str(table19))[0]\n",
        "df21 = pd.read_html(str(table20))[0]\n",
        "df22 = pd.read_html(str(table21))[0]\n",
        "df23 = pd.read_html(str(table22))[0]\n",
        "df24 = pd.read_html(str(table23))[0]\n",
        "df25 = pd.read_html(str(table24))[0]\n",
        "df26 = pd.read_html(str(table25))[0]\n",
        "df27 = pd.read_html(str(table26))[0]\n",
        "df28 = pd.read_html(str(table27))[0]\n",
        "df29 = pd.read_html(str(table28))[0]\n",
        "df30 = pd.read_html(str(table29))[0]\n",
        "df31 = pd.read_html(str(table30))[0]\n",
        "df32 = pd.read_html(str(table31))[0]\n",
        "df33 = pd.read_html(str(table32))[0]\n",
        "df34 = pd.read_html(str(table33))[0]\n",
        "df35 = pd.read_html(str(table34))[0]\n",
        "df36 = pd.read_html(str(table35))[0]\n",
        "df37 = pd.read_html(str(table36))[0]\n",
        "df38 = pd.read_html(str(table37))[0]\n",
        "df39 = pd.read_html(str(table38))[0]\n",
        "df40 = pd.read_html(str(table39))[0]\n",
        "\n",
        "\n",
        "\n",
        "\n",
        "# append all df togther\n",
        "df = df.append(df1, ignore_index=True)\n",
        "df = df.append(df2, ignore_index=True)\n",
        "df = df.append(df3, ignore_index=True)\n",
        "df = df.append(df4, ignore_index=True)\n",
        "df = df.append(df5, ignore_index=True)\n",
        "df = df.append(df6, ignore_index=True)\n",
        "df = df.append(df7, ignore_index=True)\n",
        "df = df.append(df8, ignore_index=True)\n",
        "df = df.append(df9, ignore_index=True)\n",
        "df = df.append(df10, ignore_index=True)\n",
        "df = df.append(df11, ignore_index=True)\n",
        "df = df.append(df12, ignore_index=True)\n",
        "df = df.append(df13, ignore_index=True)\n",
        "df = df.append(df14, ignore_index=True)\n",
        "df = df.append(df15, ignore_index=True)\n",
        "df = df.append(df16, ignore_index=True)\n",
        "df = df.append(df17, ignore_index=True)\n",
        "df = df.append(df18, ignore_index=True)\n",
        "df = df.append(df19, ignore_index=True)\n",
        "df = df.append(df20, ignore_index=True)\n",
        "df = df.append(df21, ignore_index=True)\n",
        "df = df.append(df22, ignore_index=True)\n",
        "df = df.append(df23, ignore_index=True)\n",
        "df = df.append(df24, ignore_index=True)\n",
        "df = df.append(df25, ignore_index=True)\n",
        "df = df.append(df26, ignore_index=True)\n",
        "df = df.append(df27, ignore_index=True)\n",
        "df = df.append(df28, ignore_index=True)\n",
        "df = df.append(df29, ignore_index=True)\n",
        "df = df.append(df30, ignore_index=True)\n",
        "df = df.append(df31, ignore_index=True)\n",
        "df = df.append(df32, ignore_index=True)\n",
        "df = df.append(df33, ignore_index=True)\n",
        "df = df.append(df34, ignore_index=True)\n",
        "df = df.append(df35, ignore_index=True)\n",
        "df = df.append(df36, ignore_index=True)\n",
        "df = df.append(df37, ignore_index=True)\n",
        "df = df.append(df38, ignore_index=True)\n",
        "df = df.append(df39, ignore_index=True)\n",
        "df = df.append(df40, ignore_index=True)\n",
        "\n",
        "\n",
        "\n",
        "\n",
        "#display df\n",
        "df"
      ],
      "execution_count": 97,
      "outputs": [
        {
          "output_type": "execute_result",
          "data": {
            "text/html": [
              "<div>\n",
              "<style scoped>\n",
              "    .dataframe tbody tr th:only-of-type {\n",
              "        vertical-align: middle;\n",
              "    }\n",
              "\n",
              "    .dataframe tbody tr th {\n",
              "        vertical-align: top;\n",
              "    }\n",
              "\n",
              "    .dataframe thead th {\n",
              "        text-align: right;\n",
              "    }\n",
              "</style>\n",
              "<table border=\"1\" class=\"dataframe\">\n",
              "  <thead>\n",
              "    <tr style=\"text-align: right;\">\n",
              "      <th></th>\n",
              "      <th>Tm</th>\n",
              "      <th>#Bat</th>\n",
              "      <th>BatAge</th>\n",
              "      <th>R/G</th>\n",
              "      <th>G</th>\n",
              "      <th>PA</th>\n",
              "      <th>AB</th>\n",
              "      <th>R</th>\n",
              "      <th>H</th>\n",
              "      <th>2B</th>\n",
              "      <th>...</th>\n",
              "      <th>SLG</th>\n",
              "      <th>OPS</th>\n",
              "      <th>OPS+</th>\n",
              "      <th>TB</th>\n",
              "      <th>GDP</th>\n",
              "      <th>HBP</th>\n",
              "      <th>SH</th>\n",
              "      <th>SF</th>\n",
              "      <th>IBB</th>\n",
              "      <th>LOB</th>\n",
              "    </tr>\n",
              "  </thead>\n",
              "  <tbody>\n",
              "    <tr>\n",
              "      <th>0</th>\n",
              "      <td>ARI</td>\n",
              "      <td>45</td>\n",
              "      <td>28.7</td>\n",
              "      <td>5.02</td>\n",
              "      <td>162</td>\n",
              "      <td>6315</td>\n",
              "      <td>5633</td>\n",
              "      <td>813</td>\n",
              "      <td>1419</td>\n",
              "      <td>288</td>\n",
              "      <td>...</td>\n",
              "      <td>.434</td>\n",
              "      <td>.757</td>\n",
              "      <td>94</td>\n",
              "      <td>2447</td>\n",
              "      <td>120</td>\n",
              "      <td>70</td>\n",
              "      <td>31</td>\n",
              "      <td>40</td>\n",
              "      <td>36</td>\n",
              "      <td>1119</td>\n",
              "    </tr>\n",
              "    <tr>\n",
              "      <th>1</th>\n",
              "      <td>ATL</td>\n",
              "      <td>50</td>\n",
              "      <td>28.0</td>\n",
              "      <td>5.28</td>\n",
              "      <td>162</td>\n",
              "      <td>6302</td>\n",
              "      <td>5560</td>\n",
              "      <td>855</td>\n",
              "      <td>1432</td>\n",
              "      <td>277</td>\n",
              "      <td>...</td>\n",
              "      <td>.452</td>\n",
              "      <td>.789</td>\n",
              "      <td>99</td>\n",
              "      <td>2514</td>\n",
              "      <td>104</td>\n",
              "      <td>60</td>\n",
              "      <td>25</td>\n",
              "      <td>35</td>\n",
              "      <td>39</td>\n",
              "      <td>1138</td>\n",
              "    </tr>\n",
              "    <tr>\n",
              "      <th>2</th>\n",
              "      <td>BAL</td>\n",
              "      <td>58</td>\n",
              "      <td>26.5</td>\n",
              "      <td>4.50</td>\n",
              "      <td>162</td>\n",
              "      <td>6189</td>\n",
              "      <td>5596</td>\n",
              "      <td>729</td>\n",
              "      <td>1379</td>\n",
              "      <td>252</td>\n",
              "      <td>...</td>\n",
              "      <td>.415</td>\n",
              "      <td>.725</td>\n",
              "      <td>91</td>\n",
              "      <td>2320</td>\n",
              "      <td>111</td>\n",
              "      <td>71</td>\n",
              "      <td>22</td>\n",
              "      <td>37</td>\n",
              "      <td>8</td>\n",
              "      <td>1063</td>\n",
              "    </tr>\n",
              "    <tr>\n",
              "      <th>3</th>\n",
              "      <td>BOS</td>\n",
              "      <td>47</td>\n",
              "      <td>27.3</td>\n",
              "      <td>5.56</td>\n",
              "      <td>162</td>\n",
              "      <td>6475</td>\n",
              "      <td>5770</td>\n",
              "      <td>901</td>\n",
              "      <td>1554</td>\n",
              "      <td>345</td>\n",
              "      <td>...</td>\n",
              "      <td>.466</td>\n",
              "      <td>.806</td>\n",
              "      <td>107</td>\n",
              "      <td>2688</td>\n",
              "      <td>127</td>\n",
              "      <td>49</td>\n",
              "      <td>20</td>\n",
              "      <td>44</td>\n",
              "      <td>36</td>\n",
              "      <td>1170</td>\n",
              "    </tr>\n",
              "    <tr>\n",
              "      <th>4</th>\n",
              "      <td>CHC</td>\n",
              "      <td>52</td>\n",
              "      <td>27.7</td>\n",
              "      <td>5.02</td>\n",
              "      <td>162</td>\n",
              "      <td>6195</td>\n",
              "      <td>5461</td>\n",
              "      <td>814</td>\n",
              "      <td>1378</td>\n",
              "      <td>270</td>\n",
              "      <td>...</td>\n",
              "      <td>.452</td>\n",
              "      <td>.783</td>\n",
              "      <td>100</td>\n",
              "      <td>2468</td>\n",
              "      <td>127</td>\n",
              "      <td>83</td>\n",
              "      <td>30</td>\n",
              "      <td>39</td>\n",
              "      <td>33</td>\n",
              "      <td>1071</td>\n",
              "    </tr>\n",
              "    <tr>\n",
              "      <th>...</th>\n",
              "      <td>...</td>\n",
              "      <td>...</td>\n",
              "      <td>...</td>\n",
              "      <td>...</td>\n",
              "      <td>...</td>\n",
              "      <td>...</td>\n",
              "      <td>...</td>\n",
              "      <td>...</td>\n",
              "      <td>...</td>\n",
              "      <td>...</td>\n",
              "      <td>...</td>\n",
              "      <td>...</td>\n",
              "      <td>...</td>\n",
              "      <td>...</td>\n",
              "      <td>...</td>\n",
              "      <td>...</td>\n",
              "      <td>...</td>\n",
              "      <td>...</td>\n",
              "      <td>...</td>\n",
              "      <td>...</td>\n",
              "      <td>...</td>\n",
              "    </tr>\n",
              "    <tr>\n",
              "      <th>1253</th>\n",
              "      <td>TEX</td>\n",
              "      <td>41</td>\n",
              "      <td>30.0</td>\n",
              "      <td>4.64</td>\n",
              "      <td>163</td>\n",
              "      <td>6320</td>\n",
              "      <td>5690</td>\n",
              "      <td>756</td>\n",
              "      <td>1616</td>\n",
              "      <td>263</td>\n",
              "      <td>...</td>\n",
              "      <td>.405</td>\n",
              "      <td>.744</td>\n",
              "      <td>107</td>\n",
              "      <td>2305</td>\n",
              "      <td>156</td>\n",
              "      <td>23</td>\n",
              "      <td>70</td>\n",
              "      <td>56</td>\n",
              "      <td>51</td>\n",
              "      <td>1186</td>\n",
              "    </tr>\n",
              "    <tr>\n",
              "      <th>1254</th>\n",
              "      <td>TOR</td>\n",
              "      <td>37</td>\n",
              "      <td>25.8</td>\n",
              "      <td>3.85</td>\n",
              "      <td>162</td>\n",
              "      <td>6149</td>\n",
              "      <td>5571</td>\n",
              "      <td>624</td>\n",
              "      <td>1398</td>\n",
              "      <td>249</td>\n",
              "      <td>...</td>\n",
              "      <td>.383</td>\n",
              "      <td>.691</td>\n",
              "      <td>85</td>\n",
              "      <td>2131</td>\n",
              "      <td>119</td>\n",
              "      <td>33</td>\n",
              "      <td>63</td>\n",
              "      <td>34</td>\n",
              "      <td>44</td>\n",
              "      <td>1083</td>\n",
              "    </tr>\n",
              "    <tr>\n",
              "      <th>1255</th>\n",
              "      <td>LgAvg</td>\n",
              "      <td>35</td>\n",
              "      <td>28.2</td>\n",
              "      <td>4.29</td>\n",
              "      <td>162</td>\n",
              "      <td>6200</td>\n",
              "      <td>5545</td>\n",
              "      <td>694</td>\n",
              "      <td>1467</td>\n",
              "      <td>244</td>\n",
              "      <td>...</td>\n",
              "      <td>.388</td>\n",
              "      <td>.714</td>\n",
              "      <td>97</td>\n",
              "      <td>2150</td>\n",
              "      <td>129</td>\n",
              "      <td>25</td>\n",
              "      <td>72</td>\n",
              "      <td>50</td>\n",
              "      <td>55</td>\n",
              "      <td>1137</td>\n",
              "    </tr>\n",
              "    <tr>\n",
              "      <th>1256</th>\n",
              "      <td>Tm</td>\n",
              "      <td>#Bat</td>\n",
              "      <td>BatAge</td>\n",
              "      <td>R/G</td>\n",
              "      <td>G</td>\n",
              "      <td>PA</td>\n",
              "      <td>AB</td>\n",
              "      <td>R</td>\n",
              "      <td>H</td>\n",
              "      <td>2B</td>\n",
              "      <td>...</td>\n",
              "      <td>SLG</td>\n",
              "      <td>OPS</td>\n",
              "      <td>OPS+</td>\n",
              "      <td>TB</td>\n",
              "      <td>GDP</td>\n",
              "      <td>HBP</td>\n",
              "      <td>SH</td>\n",
              "      <td>SF</td>\n",
              "      <td>IBB</td>\n",
              "      <td>LOB</td>\n",
              "    </tr>\n",
              "    <tr>\n",
              "      <th>1257</th>\n",
              "      <td>NaN</td>\n",
              "      <td>916</td>\n",
              "      <td>28.2</td>\n",
              "      <td>4.29</td>\n",
              "      <td>4210</td>\n",
              "      <td>161210</td>\n",
              "      <td>144160</td>\n",
              "      <td>18053</td>\n",
              "      <td>38144</td>\n",
              "      <td>6345</td>\n",
              "      <td>...</td>\n",
              "      <td>.388</td>\n",
              "      <td>.714</td>\n",
              "      <td>97</td>\n",
              "      <td>55902</td>\n",
              "      <td>3362</td>\n",
              "      <td>657</td>\n",
              "      <td>1883</td>\n",
              "      <td>1296</td>\n",
              "      <td>1435</td>\n",
              "      <td>29573</td>\n",
              "    </tr>\n",
              "  </tbody>\n",
              "</table>\n",
              "<p>1258 rows × 29 columns</p>\n",
              "</div>"
            ],
            "text/plain": [
              "         Tm  \\\n",
              "0       ARI   \n",
              "1       ATL   \n",
              "2       BAL   \n",
              "3       BOS   \n",
              "4       CHC   \n",
              "...     ...   \n",
              "1253    TEX   \n",
              "1254    TOR   \n",
              "1255  LgAvg   \n",
              "1256     Tm   \n",
              "1257    NaN   \n",
              "\n",
              "      #Bat  \\\n",
              "0       45   \n",
              "1       50   \n",
              "2       58   \n",
              "3       47   \n",
              "4       52   \n",
              "...    ...   \n",
              "1253    41   \n",
              "1254    37   \n",
              "1255    35   \n",
              "1256  #Bat   \n",
              "1257   916   \n",
              "\n",
              "      BatAge  \\\n",
              "0       28.7   \n",
              "1       28.0   \n",
              "2       26.5   \n",
              "3       27.3   \n",
              "4       27.7   \n",
              "...      ...   \n",
              "1253    30.0   \n",
              "1254    25.8   \n",
              "1255    28.2   \n",
              "1256  BatAge   \n",
              "1257    28.2   \n",
              "\n",
              "       R/G  \\\n",
              "0     5.02   \n",
              "1     5.28   \n",
              "2     4.50   \n",
              "3     5.56   \n",
              "4     5.02   \n",
              "...    ...   \n",
              "1253  4.64   \n",
              "1254  3.85   \n",
              "1255  4.29   \n",
              "1256   R/G   \n",
              "1257  4.29   \n",
              "\n",
              "         G  \\\n",
              "0      162   \n",
              "1      162   \n",
              "2      162   \n",
              "3      162   \n",
              "4      162   \n",
              "...    ...   \n",
              "1253   163   \n",
              "1254   162   \n",
              "1255   162   \n",
              "1256     G   \n",
              "1257  4210   \n",
              "\n",
              "          PA  \\\n",
              "0       6315   \n",
              "1       6302   \n",
              "2       6189   \n",
              "3       6475   \n",
              "4       6195   \n",
              "...      ...   \n",
              "1253    6320   \n",
              "1254    6149   \n",
              "1255    6200   \n",
              "1256      PA   \n",
              "1257  161210   \n",
              "\n",
              "          AB  \\\n",
              "0       5633   \n",
              "1       5560   \n",
              "2       5596   \n",
              "3       5770   \n",
              "4       5461   \n",
              "...      ...   \n",
              "1253    5690   \n",
              "1254    5571   \n",
              "1255    5545   \n",
              "1256      AB   \n",
              "1257  144160   \n",
              "\n",
              "          R  \\\n",
              "0       813   \n",
              "1       855   \n",
              "2       729   \n",
              "3       901   \n",
              "4       814   \n",
              "...     ...   \n",
              "1253    756   \n",
              "1254    624   \n",
              "1255    694   \n",
              "1256      R   \n",
              "1257  18053   \n",
              "\n",
              "          H  \\\n",
              "0      1419   \n",
              "1      1432   \n",
              "2      1379   \n",
              "3      1554   \n",
              "4      1378   \n",
              "...     ...   \n",
              "1253   1616   \n",
              "1254   1398   \n",
              "1255   1467   \n",
              "1256      H   \n",
              "1257  38144   \n",
              "\n",
              "        2B  \\\n",
              "0      288   \n",
              "1      277   \n",
              "2      252   \n",
              "3      345   \n",
              "4      270   \n",
              "...    ...   \n",
              "1253   263   \n",
              "1254   249   \n",
              "1255   244   \n",
              "1256    2B   \n",
              "1257  6345   \n",
              "\n",
              "      ...  \\\n",
              "0     ...   \n",
              "1     ...   \n",
              "2     ...   \n",
              "3     ...   \n",
              "4     ...   \n",
              "...   ...   \n",
              "1253  ...   \n",
              "1254  ...   \n",
              "1255  ...   \n",
              "1256  ...   \n",
              "1257  ...   \n",
              "\n",
              "       SLG  \\\n",
              "0     .434   \n",
              "1     .452   \n",
              "2     .415   \n",
              "3     .466   \n",
              "4     .452   \n",
              "...    ...   \n",
              "1253  .405   \n",
              "1254  .383   \n",
              "1255  .388   \n",
              "1256   SLG   \n",
              "1257  .388   \n",
              "\n",
              "       OPS  \\\n",
              "0     .757   \n",
              "1     .789   \n",
              "2     .725   \n",
              "3     .806   \n",
              "4     .783   \n",
              "...    ...   \n",
              "1253  .744   \n",
              "1254  .691   \n",
              "1255  .714   \n",
              "1256   OPS   \n",
              "1257  .714   \n",
              "\n",
              "      OPS+  \\\n",
              "0       94   \n",
              "1       99   \n",
              "2       91   \n",
              "3      107   \n",
              "4      100   \n",
              "...    ...   \n",
              "1253   107   \n",
              "1254    85   \n",
              "1255    97   \n",
              "1256  OPS+   \n",
              "1257    97   \n",
              "\n",
              "         TB  \\\n",
              "0      2447   \n",
              "1      2514   \n",
              "2      2320   \n",
              "3      2688   \n",
              "4      2468   \n",
              "...     ...   \n",
              "1253   2305   \n",
              "1254   2131   \n",
              "1255   2150   \n",
              "1256     TB   \n",
              "1257  55902   \n",
              "\n",
              "       GDP  \\\n",
              "0      120   \n",
              "1      104   \n",
              "2      111   \n",
              "3      127   \n",
              "4      127   \n",
              "...    ...   \n",
              "1253   156   \n",
              "1254   119   \n",
              "1255   129   \n",
              "1256   GDP   \n",
              "1257  3362   \n",
              "\n",
              "      HBP  \\\n",
              "0      70   \n",
              "1      60   \n",
              "2      71   \n",
              "3      49   \n",
              "4      83   \n",
              "...   ...   \n",
              "1253   23   \n",
              "1254   33   \n",
              "1255   25   \n",
              "1256  HBP   \n",
              "1257  657   \n",
              "\n",
              "        SH  \\\n",
              "0       31   \n",
              "1       25   \n",
              "2       22   \n",
              "3       20   \n",
              "4       30   \n",
              "...    ...   \n",
              "1253    70   \n",
              "1254    63   \n",
              "1255    72   \n",
              "1256    SH   \n",
              "1257  1883   \n",
              "\n",
              "        SF  \\\n",
              "0       40   \n",
              "1       35   \n",
              "2       37   \n",
              "3       44   \n",
              "4       39   \n",
              "...    ...   \n",
              "1253    56   \n",
              "1254    34   \n",
              "1255    50   \n",
              "1256    SF   \n",
              "1257  1296   \n",
              "\n",
              "       IBB  \\\n",
              "0       36   \n",
              "1       39   \n",
              "2        8   \n",
              "3       36   \n",
              "4       33   \n",
              "...    ...   \n",
              "1253    51   \n",
              "1254    44   \n",
              "1255    55   \n",
              "1256   IBB   \n",
              "1257  1435   \n",
              "\n",
              "        LOB  \n",
              "0      1119  \n",
              "1      1138  \n",
              "2      1063  \n",
              "3      1170  \n",
              "4      1071  \n",
              "...     ...  \n",
              "1253   1186  \n",
              "1254   1083  \n",
              "1255   1137  \n",
              "1256    LOB  \n",
              "1257  29573  \n",
              "\n",
              "[1258 rows x 29 columns]"
            ]
          },
          "metadata": {
            "tags": []
          },
          "execution_count": 97
        }
      ]
    },
    {
      "cell_type": "markdown",
      "metadata": {
        "id": "MtRgFhaB-KsK",
        "colab_type": "text"
      },
      "source": [
        "We first want to see if there are any missing data values in out dataframe."
      ]
    },
    {
      "cell_type": "code",
      "metadata": {
        "id": "srIJ-Tc_9n_X",
        "colab_type": "code",
        "outputId": "7b51709a-82fd-494c-966e-cc02274b4db0",
        "colab": {
          "base_uri": "https://localhost:8080/",
          "height": 34
        }
      },
      "source": [
        "df.isnull().values.any()"
      ],
      "execution_count": 98,
      "outputs": [
        {
          "output_type": "execute_result",
          "data": {
            "text/plain": [
              "True"
            ]
          },
          "metadata": {
            "tags": []
          },
          "execution_count": 98
        }
      ]
    },
    {
      "cell_type": "markdown",
      "metadata": {
        "id": "a0miPXsR-aVj",
        "colab_type": "text"
      },
      "source": [
        "Since we know we have missing data, we want to find how much, and then clean it."
      ]
    },
    {
      "cell_type": "code",
      "metadata": {
        "id": "YpRvL4InpJMJ",
        "colab_type": "code",
        "outputId": "d584f546-1a4f-41e1-b1d2-24706ec2f381",
        "colab": {
          "base_uri": "https://localhost:8080/",
          "height": 510
        }
      },
      "source": [
        "for col in df.columns:\n",
        " #   if df.dtypes() == object:\n",
        "    count1 = 0\n",
        "    count1 = [count1 + 1 for x in df[col] if x == col]\n",
        "    print(col + ' ' + str(sum(count1))) "
      ],
      "execution_count": 99,
      "outputs": [
        {
          "output_type": "stream",
          "text": [
            "Tm 40\n",
            "#Bat 40\n",
            "BatAge 40\n",
            "R/G 40\n",
            "G 40\n",
            "PA 40\n",
            "AB 40\n",
            "R 40\n",
            "H 40\n",
            "2B 40\n",
            "3B 40\n",
            "HR 40\n",
            "RBI 40\n",
            "SB 40\n",
            "CS 40\n",
            "BB 40\n",
            "SO 40\n",
            "BA 40\n",
            "OBP 40\n",
            "SLG 40\n",
            "OPS 40\n",
            "OPS+ 40\n",
            "TB 40\n",
            "GDP 40\n",
            "HBP 40\n",
            "SH 40\n",
            "SF 40\n",
            "IBB 40\n",
            "LOB 40\n"
          ],
          "name": "stdout"
        }
      ]
    },
    {
      "cell_type": "markdown",
      "metadata": {
        "id": "MAG4KXY5li6G",
        "colab_type": "text"
      },
      "source": [
        "all columns contain 40 missing points; However these missing spots share rows for all instances. thus our data set contain a total of 40 missed values which we can simply drop because as we show in the following code these rows and columns don't contain any data, they're just place holders which we downloaded multiple times during scraping data in phase 1."
      ]
    },
    {
      "cell_type": "code",
      "metadata": {
        "id": "he93ucpWut7R",
        "colab_type": "code",
        "outputId": "e2450377-9b34-4c16-f4c8-688e8ebd4f55",
        "colab": {
          "base_uri": "https://localhost:8080/",
          "height": 419
        }
      },
      "source": [
        "df.loc[df[\"Tm\"] == \"Tm\"]"
      ],
      "execution_count": 100,
      "outputs": [
        {
          "output_type": "execute_result",
          "data": {
            "text/html": [
              "<div>\n",
              "<style scoped>\n",
              "    .dataframe tbody tr th:only-of-type {\n",
              "        vertical-align: middle;\n",
              "    }\n",
              "\n",
              "    .dataframe tbody tr th {\n",
              "        vertical-align: top;\n",
              "    }\n",
              "\n",
              "    .dataframe thead th {\n",
              "        text-align: right;\n",
              "    }\n",
              "</style>\n",
              "<table border=\"1\" class=\"dataframe\">\n",
              "  <thead>\n",
              "    <tr style=\"text-align: right;\">\n",
              "      <th></th>\n",
              "      <th>Tm</th>\n",
              "      <th>#Bat</th>\n",
              "      <th>BatAge</th>\n",
              "      <th>R/G</th>\n",
              "      <th>G</th>\n",
              "      <th>PA</th>\n",
              "      <th>AB</th>\n",
              "      <th>R</th>\n",
              "      <th>H</th>\n",
              "      <th>2B</th>\n",
              "      <th>...</th>\n",
              "      <th>SLG</th>\n",
              "      <th>OPS</th>\n",
              "      <th>OPS+</th>\n",
              "      <th>TB</th>\n",
              "      <th>GDP</th>\n",
              "      <th>HBP</th>\n",
              "      <th>SH</th>\n",
              "      <th>SF</th>\n",
              "      <th>IBB</th>\n",
              "      <th>LOB</th>\n",
              "    </tr>\n",
              "  </thead>\n",
              "  <tbody>\n",
              "    <tr>\n",
              "      <th>31</th>\n",
              "      <td>Tm</td>\n",
              "      <td>#Bat</td>\n",
              "      <td>BatAge</td>\n",
              "      <td>R/G</td>\n",
              "      <td>G</td>\n",
              "      <td>PA</td>\n",
              "      <td>AB</td>\n",
              "      <td>R</td>\n",
              "      <td>H</td>\n",
              "      <td>2B</td>\n",
              "      <td>...</td>\n",
              "      <td>SLG</td>\n",
              "      <td>OPS</td>\n",
              "      <td>OPS+</td>\n",
              "      <td>TB</td>\n",
              "      <td>GDP</td>\n",
              "      <td>HBP</td>\n",
              "      <td>SH</td>\n",
              "      <td>SF</td>\n",
              "      <td>IBB</td>\n",
              "      <td>LOB</td>\n",
              "    </tr>\n",
              "    <tr>\n",
              "      <th>64</th>\n",
              "      <td>Tm</td>\n",
              "      <td>#Bat</td>\n",
              "      <td>BatAge</td>\n",
              "      <td>R/G</td>\n",
              "      <td>G</td>\n",
              "      <td>PA</td>\n",
              "      <td>AB</td>\n",
              "      <td>R</td>\n",
              "      <td>H</td>\n",
              "      <td>2B</td>\n",
              "      <td>...</td>\n",
              "      <td>SLG</td>\n",
              "      <td>OPS</td>\n",
              "      <td>OPS+</td>\n",
              "      <td>TB</td>\n",
              "      <td>GDP</td>\n",
              "      <td>HBP</td>\n",
              "      <td>SH</td>\n",
              "      <td>SF</td>\n",
              "      <td>IBB</td>\n",
              "      <td>LOB</td>\n",
              "    </tr>\n",
              "    <tr>\n",
              "      <th>97</th>\n",
              "      <td>Tm</td>\n",
              "      <td>#Bat</td>\n",
              "      <td>BatAge</td>\n",
              "      <td>R/G</td>\n",
              "      <td>G</td>\n",
              "      <td>PA</td>\n",
              "      <td>AB</td>\n",
              "      <td>R</td>\n",
              "      <td>H</td>\n",
              "      <td>2B</td>\n",
              "      <td>...</td>\n",
              "      <td>SLG</td>\n",
              "      <td>OPS</td>\n",
              "      <td>OPS+</td>\n",
              "      <td>TB</td>\n",
              "      <td>GDP</td>\n",
              "      <td>HBP</td>\n",
              "      <td>SH</td>\n",
              "      <td>SF</td>\n",
              "      <td>IBB</td>\n",
              "      <td>LOB</td>\n",
              "    </tr>\n",
              "    <tr>\n",
              "      <th>130</th>\n",
              "      <td>Tm</td>\n",
              "      <td>#Bat</td>\n",
              "      <td>BatAge</td>\n",
              "      <td>R/G</td>\n",
              "      <td>G</td>\n",
              "      <td>PA</td>\n",
              "      <td>AB</td>\n",
              "      <td>R</td>\n",
              "      <td>H</td>\n",
              "      <td>2B</td>\n",
              "      <td>...</td>\n",
              "      <td>SLG</td>\n",
              "      <td>OPS</td>\n",
              "      <td>OPS+</td>\n",
              "      <td>TB</td>\n",
              "      <td>GDP</td>\n",
              "      <td>HBP</td>\n",
              "      <td>SH</td>\n",
              "      <td>SF</td>\n",
              "      <td>IBB</td>\n",
              "      <td>LOB</td>\n",
              "    </tr>\n",
              "    <tr>\n",
              "      <th>163</th>\n",
              "      <td>Tm</td>\n",
              "      <td>#Bat</td>\n",
              "      <td>BatAge</td>\n",
              "      <td>R/G</td>\n",
              "      <td>G</td>\n",
              "      <td>PA</td>\n",
              "      <td>AB</td>\n",
              "      <td>R</td>\n",
              "      <td>H</td>\n",
              "      <td>2B</td>\n",
              "      <td>...</td>\n",
              "      <td>SLG</td>\n",
              "      <td>OPS</td>\n",
              "      <td>OPS+</td>\n",
              "      <td>TB</td>\n",
              "      <td>GDP</td>\n",
              "      <td>HBP</td>\n",
              "      <td>SH</td>\n",
              "      <td>SF</td>\n",
              "      <td>IBB</td>\n",
              "      <td>LOB</td>\n",
              "    </tr>\n",
              "    <tr>\n",
              "      <th>...</th>\n",
              "      <td>...</td>\n",
              "      <td>...</td>\n",
              "      <td>...</td>\n",
              "      <td>...</td>\n",
              "      <td>...</td>\n",
              "      <td>...</td>\n",
              "      <td>...</td>\n",
              "      <td>...</td>\n",
              "      <td>...</td>\n",
              "      <td>...</td>\n",
              "      <td>...</td>\n",
              "      <td>...</td>\n",
              "      <td>...</td>\n",
              "      <td>...</td>\n",
              "      <td>...</td>\n",
              "      <td>...</td>\n",
              "      <td>...</td>\n",
              "      <td>...</td>\n",
              "      <td>...</td>\n",
              "      <td>...</td>\n",
              "      <td>...</td>\n",
              "    </tr>\n",
              "    <tr>\n",
              "      <th>1140</th>\n",
              "      <td>Tm</td>\n",
              "      <td>#Bat</td>\n",
              "      <td>BatAge</td>\n",
              "      <td>R/G</td>\n",
              "      <td>G</td>\n",
              "      <td>PA</td>\n",
              "      <td>AB</td>\n",
              "      <td>R</td>\n",
              "      <td>H</td>\n",
              "      <td>2B</td>\n",
              "      <td>...</td>\n",
              "      <td>SLG</td>\n",
              "      <td>OPS</td>\n",
              "      <td>OPS+</td>\n",
              "      <td>TB</td>\n",
              "      <td>GDP</td>\n",
              "      <td>HBP</td>\n",
              "      <td>SH</td>\n",
              "      <td>SF</td>\n",
              "      <td>IBB</td>\n",
              "      <td>LOB</td>\n",
              "    </tr>\n",
              "    <tr>\n",
              "      <th>1169</th>\n",
              "      <td>Tm</td>\n",
              "      <td>#Bat</td>\n",
              "      <td>BatAge</td>\n",
              "      <td>R/G</td>\n",
              "      <td>G</td>\n",
              "      <td>PA</td>\n",
              "      <td>AB</td>\n",
              "      <td>R</td>\n",
              "      <td>H</td>\n",
              "      <td>2B</td>\n",
              "      <td>...</td>\n",
              "      <td>SLG</td>\n",
              "      <td>OPS</td>\n",
              "      <td>OPS+</td>\n",
              "      <td>TB</td>\n",
              "      <td>GDP</td>\n",
              "      <td>HBP</td>\n",
              "      <td>SH</td>\n",
              "      <td>SF</td>\n",
              "      <td>IBB</td>\n",
              "      <td>LOB</td>\n",
              "    </tr>\n",
              "    <tr>\n",
              "      <th>1198</th>\n",
              "      <td>Tm</td>\n",
              "      <td>#Bat</td>\n",
              "      <td>BatAge</td>\n",
              "      <td>R/G</td>\n",
              "      <td>G</td>\n",
              "      <td>PA</td>\n",
              "      <td>AB</td>\n",
              "      <td>R</td>\n",
              "      <td>H</td>\n",
              "      <td>2B</td>\n",
              "      <td>...</td>\n",
              "      <td>SLG</td>\n",
              "      <td>OPS</td>\n",
              "      <td>OPS+</td>\n",
              "      <td>TB</td>\n",
              "      <td>GDP</td>\n",
              "      <td>HBP</td>\n",
              "      <td>SH</td>\n",
              "      <td>SF</td>\n",
              "      <td>IBB</td>\n",
              "      <td>LOB</td>\n",
              "    </tr>\n",
              "    <tr>\n",
              "      <th>1227</th>\n",
              "      <td>Tm</td>\n",
              "      <td>#Bat</td>\n",
              "      <td>BatAge</td>\n",
              "      <td>R/G</td>\n",
              "      <td>G</td>\n",
              "      <td>PA</td>\n",
              "      <td>AB</td>\n",
              "      <td>R</td>\n",
              "      <td>H</td>\n",
              "      <td>2B</td>\n",
              "      <td>...</td>\n",
              "      <td>SLG</td>\n",
              "      <td>OPS</td>\n",
              "      <td>OPS+</td>\n",
              "      <td>TB</td>\n",
              "      <td>GDP</td>\n",
              "      <td>HBP</td>\n",
              "      <td>SH</td>\n",
              "      <td>SF</td>\n",
              "      <td>IBB</td>\n",
              "      <td>LOB</td>\n",
              "    </tr>\n",
              "    <tr>\n",
              "      <th>1256</th>\n",
              "      <td>Tm</td>\n",
              "      <td>#Bat</td>\n",
              "      <td>BatAge</td>\n",
              "      <td>R/G</td>\n",
              "      <td>G</td>\n",
              "      <td>PA</td>\n",
              "      <td>AB</td>\n",
              "      <td>R</td>\n",
              "      <td>H</td>\n",
              "      <td>2B</td>\n",
              "      <td>...</td>\n",
              "      <td>SLG</td>\n",
              "      <td>OPS</td>\n",
              "      <td>OPS+</td>\n",
              "      <td>TB</td>\n",
              "      <td>GDP</td>\n",
              "      <td>HBP</td>\n",
              "      <td>SH</td>\n",
              "      <td>SF</td>\n",
              "      <td>IBB</td>\n",
              "      <td>LOB</td>\n",
              "    </tr>\n",
              "  </tbody>\n",
              "</table>\n",
              "<p>40 rows × 29 columns</p>\n",
              "</div>"
            ],
            "text/plain": [
              "      Tm  \\\n",
              "31    Tm   \n",
              "64    Tm   \n",
              "97    Tm   \n",
              "130   Tm   \n",
              "163   Tm   \n",
              "...   ..   \n",
              "1140  Tm   \n",
              "1169  Tm   \n",
              "1198  Tm   \n",
              "1227  Tm   \n",
              "1256  Tm   \n",
              "\n",
              "      #Bat  \\\n",
              "31    #Bat   \n",
              "64    #Bat   \n",
              "97    #Bat   \n",
              "130   #Bat   \n",
              "163   #Bat   \n",
              "...    ...   \n",
              "1140  #Bat   \n",
              "1169  #Bat   \n",
              "1198  #Bat   \n",
              "1227  #Bat   \n",
              "1256  #Bat   \n",
              "\n",
              "      BatAge  \\\n",
              "31    BatAge   \n",
              "64    BatAge   \n",
              "97    BatAge   \n",
              "130   BatAge   \n",
              "163   BatAge   \n",
              "...      ...   \n",
              "1140  BatAge   \n",
              "1169  BatAge   \n",
              "1198  BatAge   \n",
              "1227  BatAge   \n",
              "1256  BatAge   \n",
              "\n",
              "      R/G  \\\n",
              "31    R/G   \n",
              "64    R/G   \n",
              "97    R/G   \n",
              "130   R/G   \n",
              "163   R/G   \n",
              "...   ...   \n",
              "1140  R/G   \n",
              "1169  R/G   \n",
              "1198  R/G   \n",
              "1227  R/G   \n",
              "1256  R/G   \n",
              "\n",
              "      G  \\\n",
              "31    G   \n",
              "64    G   \n",
              "97    G   \n",
              "130   G   \n",
              "163   G   \n",
              "...  ..   \n",
              "1140  G   \n",
              "1169  G   \n",
              "1198  G   \n",
              "1227  G   \n",
              "1256  G   \n",
              "\n",
              "      PA  \\\n",
              "31    PA   \n",
              "64    PA   \n",
              "97    PA   \n",
              "130   PA   \n",
              "163   PA   \n",
              "...   ..   \n",
              "1140  PA   \n",
              "1169  PA   \n",
              "1198  PA   \n",
              "1227  PA   \n",
              "1256  PA   \n",
              "\n",
              "      AB  \\\n",
              "31    AB   \n",
              "64    AB   \n",
              "97    AB   \n",
              "130   AB   \n",
              "163   AB   \n",
              "...   ..   \n",
              "1140  AB   \n",
              "1169  AB   \n",
              "1198  AB   \n",
              "1227  AB   \n",
              "1256  AB   \n",
              "\n",
              "      R  \\\n",
              "31    R   \n",
              "64    R   \n",
              "97    R   \n",
              "130   R   \n",
              "163   R   \n",
              "...  ..   \n",
              "1140  R   \n",
              "1169  R   \n",
              "1198  R   \n",
              "1227  R   \n",
              "1256  R   \n",
              "\n",
              "      H  \\\n",
              "31    H   \n",
              "64    H   \n",
              "97    H   \n",
              "130   H   \n",
              "163   H   \n",
              "...  ..   \n",
              "1140  H   \n",
              "1169  H   \n",
              "1198  H   \n",
              "1227  H   \n",
              "1256  H   \n",
              "\n",
              "      2B  \\\n",
              "31    2B   \n",
              "64    2B   \n",
              "97    2B   \n",
              "130   2B   \n",
              "163   2B   \n",
              "...   ..   \n",
              "1140  2B   \n",
              "1169  2B   \n",
              "1198  2B   \n",
              "1227  2B   \n",
              "1256  2B   \n",
              "\n",
              "      ...  \\\n",
              "31    ...   \n",
              "64    ...   \n",
              "97    ...   \n",
              "130   ...   \n",
              "163   ...   \n",
              "...   ...   \n",
              "1140  ...   \n",
              "1169  ...   \n",
              "1198  ...   \n",
              "1227  ...   \n",
              "1256  ...   \n",
              "\n",
              "      SLG  \\\n",
              "31    SLG   \n",
              "64    SLG   \n",
              "97    SLG   \n",
              "130   SLG   \n",
              "163   SLG   \n",
              "...   ...   \n",
              "1140  SLG   \n",
              "1169  SLG   \n",
              "1198  SLG   \n",
              "1227  SLG   \n",
              "1256  SLG   \n",
              "\n",
              "      OPS  \\\n",
              "31    OPS   \n",
              "64    OPS   \n",
              "97    OPS   \n",
              "130   OPS   \n",
              "163   OPS   \n",
              "...   ...   \n",
              "1140  OPS   \n",
              "1169  OPS   \n",
              "1198  OPS   \n",
              "1227  OPS   \n",
              "1256  OPS   \n",
              "\n",
              "      OPS+  \\\n",
              "31    OPS+   \n",
              "64    OPS+   \n",
              "97    OPS+   \n",
              "130   OPS+   \n",
              "163   OPS+   \n",
              "...    ...   \n",
              "1140  OPS+   \n",
              "1169  OPS+   \n",
              "1198  OPS+   \n",
              "1227  OPS+   \n",
              "1256  OPS+   \n",
              "\n",
              "      TB  \\\n",
              "31    TB   \n",
              "64    TB   \n",
              "97    TB   \n",
              "130   TB   \n",
              "163   TB   \n",
              "...   ..   \n",
              "1140  TB   \n",
              "1169  TB   \n",
              "1198  TB   \n",
              "1227  TB   \n",
              "1256  TB   \n",
              "\n",
              "      GDP  \\\n",
              "31    GDP   \n",
              "64    GDP   \n",
              "97    GDP   \n",
              "130   GDP   \n",
              "163   GDP   \n",
              "...   ...   \n",
              "1140  GDP   \n",
              "1169  GDP   \n",
              "1198  GDP   \n",
              "1227  GDP   \n",
              "1256  GDP   \n",
              "\n",
              "      HBP  \\\n",
              "31    HBP   \n",
              "64    HBP   \n",
              "97    HBP   \n",
              "130   HBP   \n",
              "163   HBP   \n",
              "...   ...   \n",
              "1140  HBP   \n",
              "1169  HBP   \n",
              "1198  HBP   \n",
              "1227  HBP   \n",
              "1256  HBP   \n",
              "\n",
              "      SH  \\\n",
              "31    SH   \n",
              "64    SH   \n",
              "97    SH   \n",
              "130   SH   \n",
              "163   SH   \n",
              "...   ..   \n",
              "1140  SH   \n",
              "1169  SH   \n",
              "1198  SH   \n",
              "1227  SH   \n",
              "1256  SH   \n",
              "\n",
              "      SF  \\\n",
              "31    SF   \n",
              "64    SF   \n",
              "97    SF   \n",
              "130   SF   \n",
              "163   SF   \n",
              "...   ..   \n",
              "1140  SF   \n",
              "1169  SF   \n",
              "1198  SF   \n",
              "1227  SF   \n",
              "1256  SF   \n",
              "\n",
              "      IBB  \\\n",
              "31    IBB   \n",
              "64    IBB   \n",
              "97    IBB   \n",
              "130   IBB   \n",
              "163   IBB   \n",
              "...   ...   \n",
              "1140  IBB   \n",
              "1169  IBB   \n",
              "1198  IBB   \n",
              "1227  IBB   \n",
              "1256  IBB   \n",
              "\n",
              "      LOB  \n",
              "31    LOB  \n",
              "64    LOB  \n",
              "97    LOB  \n",
              "130   LOB  \n",
              "163   LOB  \n",
              "...   ...  \n",
              "1140  LOB  \n",
              "1169  LOB  \n",
              "1198  LOB  \n",
              "1227  LOB  \n",
              "1256  LOB  \n",
              "\n",
              "[40 rows x 29 columns]"
            ]
          },
          "metadata": {
            "tags": []
          },
          "execution_count": 100
        }
      ]
    },
    {
      "cell_type": "code",
      "metadata": {
        "id": "z6qPx9Mhkox6",
        "colab_type": "code",
        "colab": {}
      },
      "source": [
        ""
      ],
      "execution_count": 0,
      "outputs": []
    },
    {
      "cell_type": "markdown",
      "metadata": {
        "id": "xO1EvN2KtnW7",
        "colab_type": "text"
      },
      "source": [
        ""
      ]
    },
    {
      "cell_type": "code",
      "metadata": {
        "id": "R7PJ1R0w-nXX",
        "colab_type": "code",
        "colab": {}
      },
      "source": [
        "indexNames = df[df['Tm'] == 'Tm' ].index\n",
        "# Delete these row indexes from dataFrame\n",
        "df.drop(indexNames , inplace=True)"
      ],
      "execution_count": 0,
      "outputs": []
    },
    {
      "cell_type": "markdown",
      "metadata": {
        "id": "iCeTFfsU_VfX",
        "colab_type": "text"
      },
      "source": [
        "code above, use an index \"Tm\" which is an alternative for missing data to remove the rows that contain this index since we know all the missing values are in same rows."
      ]
    },
    {
      "cell_type": "code",
      "metadata": {
        "id": "pKrN064mubNA",
        "colab_type": "code",
        "outputId": "59715d0b-818c-48a0-acc5-d8787a7cf215",
        "colab": {
          "base_uri": "https://localhost:8080/",
          "height": 510
        }
      },
      "source": [
        "for col in df.columns:\n",
        " #   if df.dtypes() == object:\n",
        "    count1 = 0\n",
        "    count1 = [count1 + 1 for x in df[col] if x == col]\n",
        "    print(col + ' ' + str(sum(count1))) "
      ],
      "execution_count": 102,
      "outputs": [
        {
          "output_type": "stream",
          "text": [
            "Tm 0\n",
            "#Bat 0\n",
            "BatAge 0\n",
            "R/G 0\n",
            "G 0\n",
            "PA 0\n",
            "AB 0\n",
            "R 0\n",
            "H 0\n",
            "2B 0\n",
            "3B 0\n",
            "HR 0\n",
            "RBI 0\n",
            "SB 0\n",
            "CS 0\n",
            "BB 0\n",
            "SO 0\n",
            "BA 0\n",
            "OBP 0\n",
            "SLG 0\n",
            "OPS 0\n",
            "OPS+ 0\n",
            "TB 0\n",
            "GDP 0\n",
            "HBP 0\n",
            "SH 0\n",
            "SF 0\n",
            "IBB 0\n",
            "LOB 0\n"
          ],
          "name": "stdout"
        }
      ]
    },
    {
      "cell_type": "markdown",
      "metadata": {
        "id": "ivz4828NudaE",
        "colab_type": "text"
      },
      "source": [
        "by double checking missing value for each column, it is evident that we successfully have removed missing data. "
      ]
    },
    {
      "cell_type": "code",
      "metadata": {
        "id": "dqlqtqFjuoqX",
        "colab_type": "code",
        "outputId": "5b680765-4525-4873-93f8-aeda129a805d",
        "colab": {
          "base_uri": "https://localhost:8080/",
          "height": 221
        }
      },
      "source": [
        "df = df.dropna() \n",
        "df.dtypes"
      ],
      "execution_count": 103,
      "outputs": [
        {
          "output_type": "execute_result",
          "data": {
            "text/plain": [
              "Tm        object\n",
              "#Bat      object\n",
              "BatAge    object\n",
              "R/G       object\n",
              "G         object\n",
              "           ...  \n",
              "HBP       object\n",
              "SH        object\n",
              "SF        object\n",
              "IBB       object\n",
              "LOB       object\n",
              "Length: 29, dtype: object"
            ]
          },
          "metadata": {
            "tags": []
          },
          "execution_count": 103
        }
      ]
    },
    {
      "cell_type": "code",
      "metadata": {
        "id": "r64HmctPkvOk",
        "colab_type": "code",
        "colab": {}
      },
      "source": [
        "#boxplot = df.boxplot(column=df['HR'])\n",
        "\n",
        "#print(df['HR'].loc[[249]])"
      ],
      "execution_count": 0,
      "outputs": []
    },
    {
      "cell_type": "markdown",
      "metadata": {
        "id": "9Wik3veXuDkt",
        "colab_type": "text"
      },
      "source": [
        "Since our feature of interest is Homeruns, we will try to find the most relevant features to this by looking at some scatter plots. "
      ]
    },
    {
      "cell_type": "code",
      "metadata": {
        "id": "Wnz5fmVZub-z",
        "colab_type": "code",
        "outputId": "e87d9b90-0880-4c80-effa-27121458fb59",
        "colab": {
          "base_uri": "https://localhost:8080/",
          "height": 265
        }
      },
      "source": [
        "import matplotlib\n",
        "import seaborn as sns\n",
        "import pandas as pd\n",
        "import numpy as np\n",
        "import matplotlib.pyplot as plt\n",
        "data = df[['HR', 'SLG']] \n",
        "\n",
        "data = data.astype(float)\n",
        "\n",
        "\n",
        "x = data['HR']\n",
        "y = data['SLG']\n",
        "plt.scatter(x, y)\n",
        "\n",
        "plt.show()\n"
      ],
      "execution_count": 105,
      "outputs": [
        {
          "output_type": "display_data",
          "data": {
            "image/png": "[encoded data removed]",
            "text/plain": [
              "<Figure size 432x288 with 1 Axes>"
            ]
          },
          "metadata": {
            "tags": []
          }
        }
      ]
    },
    {
      "cell_type": "code",
      "metadata": {
        "id": "BIc8971Z6AxO",
        "colab_type": "code",
        "outputId": "b56f1319-fd04-41ab-8b70-ba822ca7291a",
        "colab": {
          "base_uri": "https://localhost:8080/",
          "height": 269
        }
      },
      "source": [
        "data = df[['HR', 'BB']] \n",
        "\n",
        "data = data.astype(float)\n",
        "x = data['HR']\n",
        "y = data['BB']\n",
        "plt.scatter(x, y)\n",
        "\n",
        "plt.show()"
      ],
      "execution_count": 106,
      "outputs": [
        {
          "output_type": "display_data",
          "data": {
            "image/png": "[encoded data removed]",
            "text/plain": [
              "<Figure size 432x288 with 1 Axes>"
            ]
          },
          "metadata": {
            "tags": []
          }
        }
      ]
    },
    {
      "cell_type": "code",
      "metadata": {
        "id": "WMXYMjpY6IVk",
        "colab_type": "code",
        "outputId": "c849aeb1-a287-426c-e00d-98b2f7f40e7f",
        "colab": {
          "base_uri": "https://localhost:8080/",
          "height": 265
        }
      },
      "source": [
        "data = df[['HR', 'RBI']] \n",
        "\n",
        "data = data.astype(float)\n",
        "\n",
        "\n",
        "x = data['HR']\n",
        "y = data['RBI']\n",
        "plt.scatter(x, y)\n",
        "\n",
        "plt.show()"
      ],
      "execution_count": 107,
      "outputs": [
        {
          "output_type": "display_data",
          "data": {
            "image/png": "[encoded data removed]",
            "text/plain": [
              "<Figure size 432x288 with 1 Axes>"
            ]
          },
          "metadata": {
            "tags": []
          }
        }
      ]
    },
    {
      "cell_type": "markdown",
      "metadata": {
        "id": "ipTgoR3Bg85q",
        "colab_type": "text"
      },
      "source": [
        "as we can see from the scatter plots, there is some positive correlation between the number of homeruns with walks(BB), runs, and RBI's. "
      ]
    },
    {
      "cell_type": "markdown",
      "metadata": {
        "id": "blerxYVYhKU4",
        "colab_type": "text"
      },
      "source": [
        "Now we will examine the scatter plot of an expected irrelevant feature. "
      ]
    },
    {
      "cell_type": "code",
      "metadata": {
        "id": "ACHeFAMn_4ck",
        "colab_type": "code",
        "outputId": "cac06320-a53e-4ba4-ee13-650177d89f5c",
        "colab": {
          "base_uri": "https://localhost:8080/",
          "height": 265
        }
      },
      "source": [
        "data = df[['HR', 'BatAge']]\n",
        "data = data.astype(float)\n",
        "x = data['HR']\n",
        "y = data['BatAge']\n",
        "plt.scatter(x, y)\n",
        "\n",
        "plt.show()"
      ],
      "execution_count": 108,
      "outputs": [
        {
          "output_type": "display_data",
          "data": {
            "image/png": "[encoded data removed]",
            "text/plain": [
              "<Figure size 432x288 with 1 Axes>"
            ]
          },
          "metadata": {
            "tags": []
          }
        }
      ]
    },
    {
      "cell_type": "markdown",
      "metadata": {
        "id": "p72dhYDzkhlt",
        "colab_type": "text"
      },
      "source": [
        "as we can see, the average age of the batters has very little correlation to # of Hr's, so it is not an important feature. "
      ]
    },
    {
      "cell_type": "code",
      "metadata": {
        "id": "L4ZHqLzqkszw",
        "colab_type": "code",
        "outputId": "ef1232a6-0428-4464-fa53-12738d9b2474",
        "colab": {
          "base_uri": "https://localhost:8080/",
          "height": 282
        }
      },
      "source": [
        "df2 = df.copy()\n",
        "convert_dict = {'HR': float, 'SLG': float, 'RBI': float, 'BA': float, } \n",
        "df2 = df2.astype(convert_dict)\n",
        "df2.boxplot(column=['BA', 'SLG'])\n",
        "#df2.dtypes"
      ],
      "execution_count": 109,
      "outputs": [
        {
          "output_type": "execute_result",
          "data": {
            "text/plain": [
              "<matplotlib.axes._subplots.AxesSubplot at 0x7f68f863e1d0>"
            ]
          },
          "metadata": {
            "tags": []
          },
          "execution_count": 109
        },
        {
          "output_type": "display_data",
          "data": {
            "image/png": "[encoded data removed]",
            "text/plain": [
              "<Figure size 432x288 with 1 Axes>"
            ]
          },
          "metadata": {
            "tags": []
          }
        }
      ]
    },
    {
      "cell_type": "code",
      "metadata": {
        "id": "b4BkV-nK1zlV",
        "colab_type": "code",
        "outputId": "7a198786-935d-4c92-93d6-d4189c385f48",
        "colab": {
          "base_uri": "https://localhost:8080/",
          "height": 285
        }
      },
      "source": [
        "df2 = df.copy()\n",
        "convert_dict = {'HR': float, 'SLG': float, 'RBI': float, 'BA': float, } \n",
        "df2 = df2.astype(convert_dict)\n",
        "df2.boxplot(column=['HR', 'RBI'])\n",
        "#df2.dtypes"
      ],
      "execution_count": 110,
      "outputs": [
        {
          "output_type": "execute_result",
          "data": {
            "text/plain": [
              "<matplotlib.axes._subplots.AxesSubplot at 0x7f68f85a7f60>"
            ]
          },
          "metadata": {
            "tags": []
          },
          "execution_count": 110
        },
        {
          "output_type": "display_data",
          "data": {
            "image/png": "[encoded data removed]",
            "text/plain": [
              "<Figure size 432x288 with 1 Axes>"
            ]
          },
          "metadata": {
            "tags": []
          }
        }
      ]
    },
    {
      "cell_type": "code",
      "metadata": {
        "id": "4o6JvgNRtKKO",
        "colab_type": "code",
        "outputId": "87babaad-1224-4e19-c858-95aade4232fe",
        "colab": {
          "base_uri": "https://localhost:8080/",
          "height": 513
        }
      },
      "source": [
        "from matplotlib import pyplot as plt\n",
        "from pandas.plotting import parallel_coordinates\n",
        "\n",
        "data = df[['HR', 'SO','RBI','R','SLG',\"2B\",\"3B\",\"BB\"]]\n",
        "data = data.astype(float)\n",
        "data.plot(legend=True)\n",
        "plt.figure()\n",
        "parallel_coordinates(data,'3B')\n",
        "pd.plotting.parallel_coordinates(data, '3B', color=('Blue', 'Red', 'White')).legend().remove()\n"
      ],
      "execution_count": 111,
      "outputs": [
        {
          "output_type": "display_data",
          "data": {
            "image/png": "[encoded data removed]",
            "text/plain": [
              "<Figure size 432x288 with 1 Axes>"
            ]
          },
          "metadata": {
            "tags": []
          }
        },
        {
          "output_type": "display_data",
          "data": {
            "image/png": "[encoded data removed]",
            "text/plain": [
              "<Figure size 432x288 with 1 Axes>"
            ]
          },
          "metadata": {
            "tags": []
          }
        }
      ]
    },
    {
      "cell_type": "markdown",
      "metadata": {
        "id": "mWypNwJ4_5ZH",
        "colab_type": "text"
      },
      "source": [
        "The parallel plot shows us the range of different values in each feature. Strikeouts are clearly the most frequent.\n"
      ]
    },
    {
      "cell_type": "code",
      "metadata": {
        "id": "QTc3b0VZ_Ule",
        "colab_type": "code",
        "outputId": "852a7598-4bef-4f10-d168-38cdb65b0e88",
        "colab": {
          "base_uri": "https://localhost:8080/",
          "height": 282
        }
      },
      "source": [
        "data.HR.plot.hist()"
      ],
      "execution_count": 112,
      "outputs": [
        {
          "output_type": "execute_result",
          "data": {
            "text/plain": [
              "<matplotlib.axes._subplots.AxesSubplot at 0x7f68f87506d8>"
            ]
          },
          "metadata": {
            "tags": []
          },
          "execution_count": 112
        },
        {
          "output_type": "display_data",
          "data": {
            "image/png": "[encoded data removed]",
            "text/plain": [
              "<Figure size 432x288 with 1 Axes>"
            ]
          },
          "metadata": {
            "tags": []
          }
        }
      ]
    },
    {
      "cell_type": "markdown",
      "metadata": {
        "id": "i6PaVYmh_fDs",
        "colab_type": "text"
      },
      "source": [
        "This histogram shows us the distribution of homeruns is Bell Shaped. It is rare for a team to break 300 in a season, so it will be interesting to see if that will be possible when we train our ML model."
      ]
    },
    {
      "cell_type": "markdown",
      "metadata": {
        "id": "bt16nCCPlyPu",
        "colab_type": "text"
      },
      "source": [
        "Before training/using some Machine Learning models, the questions we would like to know are:\n",
        "  1. How close can a ML model predict to a real score with the data we have scraped thus far? A trivial question, but I am curious to see how accurate this will be.\n",
        "  2. If we train our data with seemingly irrelevant features, how far off will the prediciton be from our initial selected features?"
      ]
    },
    {
      "cell_type": "code",
      "metadata": {
        "id": "YelZrodILhkf",
        "colab_type": "code",
        "outputId": "209d5410-c723-4f3f-9526-dfa3972fddb0",
        "colab": {
          "base_uri": "https://localhost:8080/",
          "height": 34
        }
      },
      "source": [
        "from sklearn.linear_model import LinearRegression\n",
        "\n",
        "# get 1980 - 2018 data into x_train\n",
        "# get one 2019 row into X_test \n",
        "# predict HR\n",
        "\n",
        "xdata = df.iloc[1:1000]\n",
        "xtest = df.iloc[1001:1002]\n",
        "\n",
        "X_train = xdata[['2B','RBI','3B']]\n",
        "X_test = xtest[['2B','RBI','3B']]\n",
        "y_train = xdata['HR']\n",
        "\n",
        "model = LinearRegression()\n",
        "model.fit(X=X_train, y=y_train)\n",
        "model.predict(X=X_test)"
      ],
      "execution_count": 113,
      "outputs": [
        {
          "output_type": "execute_result",
          "data": {
            "text/plain": [
              "array([131.52468648])"
            ]
          },
          "metadata": {
            "tags": []
          },
          "execution_count": 113
        }
      ]
    },
    {
      "cell_type": "markdown",
      "metadata": {
        "id": "EfLjZVdmRp5H",
        "colab_type": "text"
      },
      "source": [
        "Our model predicts that the Milwakee Brewers will hit 133 homeruns. Lets check the actual homeruns hit by that team during that season."
      ]
    },
    {
      "cell_type": "code",
      "metadata": {
        "id": "CQOIwamZRYSl",
        "colab_type": "code",
        "outputId": "fcdca858-8d14-4515-bfb1-eb24b348a265",
        "colab": {
          "base_uri": "https://localhost:8080/",
          "height": 51
        }
      },
      "source": [
        "df.iloc[1001:1002].HR"
      ],
      "execution_count": 114,
      "outputs": [
        {
          "output_type": "execute_result",
          "data": {
            "text/plain": [
              "1067    127\n",
              "Name: HR, dtype: object"
            ]
          },
          "metadata": {
            "tags": []
          },
          "execution_count": 114
        }
      ]
    },
    {
      "cell_type": "markdown",
      "metadata": {
        "id": "TDLNJWVWR5qD",
        "colab_type": "text"
      },
      "source": [
        "They hit 127 Homeruns which is very close to what out model predicted. \n"
      ]
    },
    {
      "cell_type": "code",
      "metadata": {
        "id": "lvjT03y4d--z",
        "colab_type": "code",
        "outputId": "0daea421-ce54-41ba-87fb-81eb00c339c4",
        "colab": {
          "base_uri": "https://localhost:8080/",
          "height": 34
        }
      },
      "source": [
        "model.coef_"
      ],
      "execution_count": 115,
      "outputs": [
        {
          "output_type": "execute_result",
          "data": {
            "text/plain": [
              "array([-0.14397715,  0.36800061, -1.16003072])"
            ]
          },
          "metadata": {
            "tags": []
          },
          "execution_count": 115
        }
      ]
    },
    {
      "cell_type": "markdown",
      "metadata": {
        "id": "kGwnA-A5h4Fv",
        "colab_type": "text"
      },
      "source": [
        "We can see that there is a positive correlation between RBI's and HR's but negative correlations with doubles and triples. "
      ]
    },
    {
      "cell_type": "markdown",
      "metadata": {
        "id": "ESQy72Etmkw2",
        "colab_type": "text"
      },
      "source": [
        "Now, we will see how well a model trained with 'bad' features will predict."
      ]
    },
    {
      "cell_type": "code",
      "metadata": {
        "id": "iqUA5lK6mjpw",
        "colab_type": "code",
        "colab": {
          "base_uri": "https://localhost:8080/",
          "height": 34
        },
        "outputId": "d0001f7a-c957-4509-c021-1e84e19cd63d"
      },
      "source": [
        "X_train = xdata[['BatAge','AB','HBP']]\n",
        "X_test = xtest[['BatAge','AB','HBP']]\n",
        "y_train = xdata['HR']\n",
        "\n",
        "model = LinearRegression()\n",
        "model.fit(X=X_train, y=y_train)\n",
        "model.predict(X=X_test)"
      ],
      "execution_count": 117,
      "outputs": [
        {
          "output_type": "execute_result",
          "data": {
            "text/plain": [
              "array([144.36027759])"
            ]
          },
          "metadata": {
            "tags": []
          },
          "execution_count": 117
        }
      ]
    },
    {
      "cell_type": "markdown",
      "metadata": {
        "id": "k7tOUln5np4h",
        "colab_type": "text"
      },
      "source": [
        "The prediction isnt as good as with our initial features, but still better than excpected. For clarity, Batage = avg age of batters, AB = at bats, HBP = hit by pitch."
      ]
    },
    {
      "cell_type": "code",
      "metadata": {
        "id": "9Sy3f7AnabAg",
        "colab_type": "code",
        "outputId": "bbdf247c-70cc-49e2-ccf8-2601c2b583d9",
        "colab": {
          "base_uri": "https://localhost:8080/",
          "height": 34
        }
      },
      "source": [
        "from sklearn.model_selection import cross_val_predict\n",
        "from sklearn import datasets, linear_model\n",
        "\n",
        "train_data = df.iloc[1:1010]\n",
        "    \n",
        "X = train_data[['2B','RBI','3B']]\n",
        "y = train_data['HR']\n",
        "lasso = linear_model.Lasso()\n",
        "y_pred = cross_val_predict(lasso, X, y, cv=3)\n",
        "y_pred[1000:1001]"
      ],
      "execution_count": 118,
      "outputs": [
        {
          "output_type": "execute_result",
          "data": {
            "text/plain": [
              "array([144.85705651])"
            ]
          },
          "metadata": {
            "tags": []
          },
          "execution_count": 118
        }
      ]
    },
    {
      "cell_type": "markdown",
      "metadata": {
        "id": "OxgEckZwhVw8",
        "colab_type": "text"
      },
      "source": [
        "After running our cross val prediction, we can see that the prediction for the same team in the same season is still very close, but not as close as Linear regression."
      ]
    },
    {
      "cell_type": "code",
      "metadata": {
        "id": "lEFMuJ-IhFSL",
        "colab_type": "code",
        "outputId": "8ba3500e-5206-4de9-ea43-325cf7d15fae",
        "colab": {
          "base_uri": "https://localhost:8080/",
          "height": 51
        }
      },
      "source": [
        "train_data.iloc[1000:1001].HR"
      ],
      "execution_count": 119,
      "outputs": [
        {
          "output_type": "execute_result",
          "data": {
            "text/plain": [
              "1067    127\n",
              "Name: HR, dtype: object"
            ]
          },
          "metadata": {
            "tags": []
          },
          "execution_count": 119
        }
      ]
    },
    {
      "cell_type": "markdown",
      "metadata": {
        "id": "7JjeY7bHhgXZ",
        "colab_type": "text"
      },
      "source": [
        "To confirm, we can see that the selected team to be predicted was the same as when linear regression was used."
      ]
    }
  ]
}